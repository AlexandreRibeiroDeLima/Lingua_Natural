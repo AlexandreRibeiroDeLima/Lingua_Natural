{
  "nbformat": 4,
  "nbformat_minor": 0,
  "metadata": {
    "colab": {
      "name": "Classificador_Spam_Naive_Bayes.ipynb",
      "provenance": [],
      "collapsed_sections": []
    },
    "kernelspec": {
      "display_name": "Python 3",
      "language": "python",
      "name": "python3"
    },
    "language_info": {
      "codemirror_mode": {
        "name": "ipython",
        "version": 3
      },
      "file_extension": ".py",
      "mimetype": "text/x-python",
      "name": "python",
      "nbconvert_exporter": "python",
      "pygments_lexer": "ipython3",
      "version": "3.6.5"
    }
  },
  "cells": [
    {
      "cell_type": "markdown",
      "metadata": {
        "id": "jmgL0waROaQB"
      },
      "source": [
        "### Processamento de Línguagem Natural  \n",
        "  \n",
        "### Alexandre Ribeiro de Lima  nº 74.603  \n",
        "\n",
        "28/03/2021 \n",
        "\n"
      ]
    },
    {
      "cell_type": "markdown",
      "metadata": {
        "id": "QKSVEOw_OhFO"
      },
      "source": [
        "---\n",
        "\n",
        "# **Tarefa:** Detecção de spam com corpus de dados reais\n",
        "\n",
        "Nessa tarefa, vamos trabalhar com parte do corpus de mensagens de e-mail da Enron.\n",
        "\n",
        "As mensagens estão em arquivos de texto curtos em inglês (principalmente, mas não só) e têm anotações manuais no título e na primeira linha de texto com sua etiqueta como \"spam\" (1) ou \"ham\" (0). \n",
        "\n",
        "Aqui está uma mensagem de exemplo:\n",
        "\n",
        "\n",
        "---\n",
        "\n",
        "\n",
        "0\n",
        "\n",
        "Subject: meter 1517 - jan 1999\n",
        "george ,\n",
        "i need the following done :\n",
        "jan 13\n",
        "zero out 012 - 27049 - 02 - 001 receipt package id 2666\n",
        "allocate flow of 149 to 012 - 64610 - 02 - 055 deliv package id 392\n",
        "jan 26\n",
        "zero out 012 - 27049 - 02 - 001 receipt package id 3011\n",
        "zero out 012 - 64610 - 02 - 055 deliv package id 392\n",
        "these were buybacks that were incorrectly nominated to transport contracts\n",
        "( ect 201 receipt )\n",
        "let me know when this is done\n",
        "hc\n",
        "\n",
        "---\n",
        "\n",
        "Observe o 0 na primeira linha. Ele indica que a mensagem foi etiquetada como *ham*.\n",
        "\n"
      ]
    },
    {
      "cell_type": "markdown",
      "metadata": {
        "id": "QrPl_d2kOrmW"
      },
      "source": [
        "**1. Abrir Arquivo**"
      ]
    },
    {
      "cell_type": "code",
      "metadata": {
        "colab": {
          "resources": {
            "http://localhost:8080/nbextensions/google.colab/files.js": {
              "data": "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",
              "ok": true,
              "headers": [
                [
                  "content-type",
                  "application/javascript"
                ]
              ],
              "status": 200,
              "status_text": ""
            }
          },
          "base_uri": "https://localhost:8080/",
          "height": 73
        },
        "id": "dYBat1xqOyZw",
        "outputId": "4eac78ea-0a32-42ce-ec32-ece80212191b"
      },
      "source": [
        "from google.colab import files\n",
        "uploaded = files.upload()"
      ],
      "execution_count": null,
      "outputs": [
        {
          "output_type": "display_data",
          "data": {
            "text/html": [
              "\n",
              "     <input type=\"file\" id=\"files-83d8bd0a-e20c-450a-8ded-fa02b3f7a496\" name=\"files[]\" multiple disabled\n",
              "        style=\"border:none\" />\n",
              "     <output id=\"result-83d8bd0a-e20c-450a-8ded-fa02b3f7a496\">\n",
              "      Upload widget is only available when the cell has been executed in the\n",
              "      current browser session. Please rerun this cell to enable.\n",
              "      </output>\n",
              "      <script src=\"/nbextensions/google.colab/files.js\"></script> "
            ],
            "text/plain": [
              "<IPython.core.display.HTML object>"
            ]
          },
          "metadata": {
            "tags": []
          }
        },
        {
          "output_type": "stream",
          "text": [
            "Saving Enron.zip to Enron.zip\n"
          ],
          "name": "stdout"
        }
      ]
    },
    {
      "cell_type": "code",
      "metadata": {
        "id": "AYAbJ7hUO4LG"
      },
      "source": [
        "# Descompactar arquivo\n",
        "import os\n",
        "import zipfile\n",
        "\n",
        "local_zip = \"/content/Enron.zip\"\n",
        "\n",
        "zip_ref = zipfile.ZipFile(local_zip, \"r\")\n",
        "\n",
        "zip_ref.extractall(\"/content/Enron\")\n",
        "zip_ref.close()"
      ],
      "execution_count": null,
      "outputs": []
    },
    {
      "cell_type": "code",
      "metadata": {
        "colab": {
          "base_uri": "https://localhost:8080/"
        },
        "id": "XPSwOEHPQbXv",
        "outputId": "f1aac84c-dfac-4b6d-8b2f-f168bd7b09e2"
      },
      "source": [
        "!ls"
      ],
      "execution_count": null,
      "outputs": [
        {
          "output_type": "stream",
          "text": [
            "Enron  Enron.zip  sample_data\n"
          ],
          "name": "stdout"
        }
      ]
    },
    {
      "cell_type": "code",
      "metadata": {
        "colab": {
          "base_uri": "https://localhost:8080/"
        },
        "id": "hKsdWWIzczr5",
        "outputId": "4fd6f208-03a2-46e6-f775-c374689a5ff7"
      },
      "source": [
        "# Criar paths para cada arquivo de texto\n",
        "\n",
        "import os\n",
        "from glob import glob\n",
        "\n",
        "dir_text = \"/content/Enron/\"\n",
        "\n",
        "glob_text = os.path.join(dir_text, \"*.txt\")\n",
        "\n",
        "path_text = sorted(glob(glob_text))\n",
        "\n",
        "print(len(path_text))\n",
        "\n",
        "print(\"\\n\", path_text[1])"
      ],
      "execution_count": null,
      "outputs": [
        {
          "output_type": "stream",
          "text": [
            "5157\n",
            "\n",
            " /content/Enron/0002.1999-12-13.farmer.ham.txt\n"
          ],
          "name": "stdout"
        }
      ]
    },
    {
      "cell_type": "code",
      "metadata": {
        "colab": {
          "base_uri": "https://localhost:8080/"
        },
        "id": "4e-WEAdheDqH",
        "outputId": "d473015a-3411-42ff-9df5-effc2e83f9ab"
      },
      "source": [
        "# Criar listas de cada mensagem de email do arquivo Enrom\n",
        "lst_lista=[]\n",
        "\n",
        "for i in path_text:\n",
        "  arquivo = open(i, \"r\")\n",
        "  arq = arquivo.read()\n",
        "  lst_lista.append([arq])\n",
        "  arquivo.close()\n",
        "print(lst_lista[0])\n"
      ],
      "execution_count": null,
      "outputs": [
        {
          "output_type": "stream",
          "text": [
            "['0\\nSubject: christmas tree farm pictures\\n']\n"
          ],
          "name": "stdout"
        }
      ]
    },
    {
      "cell_type": "code",
      "metadata": {
        "colab": {
          "base_uri": "https://localhost:8080/"
        },
        "id": "0FP0aEx_EQTa",
        "outputId": "406f2b8f-88f4-4a82-f24f-80c4a226df7a"
      },
      "source": [
        "# Separar o rótulo das mensagem e armazená-las em listas diferentes\n",
        "lst_classes = []\n",
        "lst_texto = []\n",
        "for lst in lst_lista:\n",
        "  lst_classes.append(lst[0][0])\n",
        "  lst_texto.append(lst[0][1:])\n",
        "print(lst_classes[:6])\n",
        "print(lst_texto[0])\n",
        "   "
      ],
      "execution_count": null,
      "outputs": [
        {
          "output_type": "stream",
          "text": [
            "['0', '0', '0', '0', '0', '1']\n",
            "\n",
            "Subject: christmas tree farm pictures\n",
            "\n"
          ],
          "name": "stdout"
        }
      ]
    },
    {
      "cell_type": "code",
      "metadata": {
        "colab": {
          "base_uri": "https://localhost:8080/"
        },
        "id": "4wXl3WxqLGLY",
        "outputId": "3378b9d9-d2ca-4a5b-eebe-70b10d31df1e"
      },
      "source": [
        "# Criar o corpus rotulado\n",
        "corpus = list(zip(lst_texto,lst_classes))\n",
        "print(corpus[0])"
      ],
      "execution_count": null,
      "outputs": [
        {
          "output_type": "stream",
          "text": [
            "('\\nSubject: christmas tree farm pictures\\n', '0')\n"
          ],
          "name": "stdout"
        }
      ]
    },
    {
      "cell_type": "markdown",
      "metadata": {
        "id": "HQivHjlFyddR"
      },
      "source": [
        "**2. Pré-Processamento**"
      ]
    },
    {
      "cell_type": "code",
      "metadata": {
        "colab": {
          "base_uri": "https://localhost:8080/"
        },
        "id": "DlHqZiGL4SO8",
        "outputId": "b5887bcf-0f66-4d7b-bdc3-d9a393968d88"
      },
      "source": [
        "# Importar bibliotecas\n",
        "import itertools\n",
        "from collections import Counter\n",
        "from numpy import prod\n",
        "from math import log\n",
        "\n",
        "import nltk\n",
        "nltk.download('stopwords')\n",
        "nltk.download('punkt')\n",
        "stops = nltk.corpus.stopwords.words('english')\n",
        "from nltk.tokenize import word_tokenize\n",
        "from nltk.stem.snowball import SnowballStemmer\n",
        "stemmer = SnowballStemmer('english')"
      ],
      "execution_count": null,
      "outputs": [
        {
          "output_type": "stream",
          "text": [
            "[nltk_data] Downloading package stopwords to /root/nltk_data...\n",
            "[nltk_data]   Package stopwords is already up-to-date!\n",
            "[nltk_data] Downloading package punkt to /root/nltk_data...\n",
            "[nltk_data]   Package punkt is already up-to-date!\n"
          ],
          "name": "stdout"
        }
      ]
    },
    {
      "cell_type": "code",
      "metadata": {
        "id": "VjkjlN9z4Z3p"
      },
      "source": [
        "# Criar as funções de pré-processamento\n",
        "\n",
        "def tokenizar(str_texto):\n",
        "    return word_tokenize(str_texto, language='english')\n",
        "\n",
        "\n",
        "def sem_stops(lst_palavras):\n",
        "    return [p for p in lst_palavras if p not in stops]\n",
        "\n",
        "\n",
        "def limpar(lista):\n",
        "    return [i.lower() for i in lista if i.isalpha()]\n",
        "\n",
        "\n",
        "def pre_processar(str_texto):\n",
        "    return stemizar(sem_stops(limpar(tokenizar(str_texto))))\n",
        "\n",
        "\n",
        "def achatar(lista):\n",
        "    return list(itertools.chain(*lista))\n",
        "\n",
        "def stemizar(lista):\n",
        "    return [stemmer.stem(i) for i in lista]\n",
        "\n"
      ],
      "execution_count": null,
      "outputs": []
    },
    {
      "cell_type": "code",
      "metadata": {
        "colab": {
          "base_uri": "https://localhost:8080/"
        },
        "id": "A5VFJzIE4tF7",
        "outputId": "78f63658-4fad-4219-cdb2-d9196a6eda99"
      },
      "source": [
        "# Pré-Processar o corpus\n",
        "\n",
        "corpus = [(pre_processar(i[0]), i[1]) for i in corpus]\n",
        "print(corpus[0])"
      ],
      "execution_count": null,
      "outputs": [
        {
          "output_type": "stream",
          "text": [
            "(['subject', 'christma', 'tree', 'farm', 'pictur'], '0')\n"
          ],
          "name": "stdout"
        }
      ]
    },
    {
      "cell_type": "markdown",
      "metadata": {
        "id": "igvJc45U40Kv"
      },
      "source": [
        "**3. Dividir o corpus pré-processado em treinamento (80%) e teste (20%)**"
      ]
    },
    {
      "cell_type": "code",
      "metadata": {
        "id": "BKoLc5Gc5Yi4"
      },
      "source": [
        "# Separação dos documentos\n",
        "all_ham = [i[0] for i in corpus if i[1]==\"0\"]\n",
        "all_spam =[i[0] for i in corpus if i[1]==\"1\"]\n",
        "\n",
        "# Criar o vacabulário com palavras únicas\n",
        "vocab = set (achatar(all_ham)) | set(achatar(all_spam))"
      ],
      "execution_count": null,
      "outputs": []
    },
    {
      "cell_type": "code",
      "metadata": {
        "id": "jNsFli8M5fu1"
      },
      "source": [
        "# Dividir documentos em treino e teste\n",
        "# 80% para treinamento e 20% para teste\n",
        "from sklearn.model_selection import train_test_split\n",
        "import numpy as np\n",
        "\n",
        "train_ham, test_ham = train_test_split(all_ham, test_size=0.2, shuffle=False)\n",
        "\n",
        "train_spam,test_spam = train_test_split(all_spam,test_size=0.2, shuffle=False)\n"
      ],
      "execution_count": null,
      "outputs": []
    },
    {
      "cell_type": "markdown",
      "metadata": {
        "id": "9OIrjfTE589r"
      },
      "source": [
        "**4. Realizar as contagens no corpus de treinamento**"
      ]
    },
    {
      "cell_type": "code",
      "metadata": {
        "colab": {
          "base_uri": "https://localhost:8080/"
        },
        "id": "yLKgENG056yx",
        "outputId": "24f1e05e-cdd9-4f62-f6e8-060d1442a9b4"
      },
      "source": [
        "# Contagem do vocabulário\n",
        "n_vocab = len(vocab)\n",
        "print(n_vocab)"
      ],
      "execution_count": null,
      "outputs": [
        {
          "output_type": "stream",
          "text": [
            "37892\n"
          ],
          "name": "stdout"
        }
      ]
    },
    {
      "cell_type": "code",
      "metadata": {
        "colab": {
          "base_uri": "https://localhost:8080/"
        },
        "id": "jC_0tsUn6jjB",
        "outputId": "c5fee894-5fef-4686-975f-c1933352ee35"
      },
      "source": [
        "# Contagem das classes spam e ham\n",
        "n_train_ham = len(train_ham)\n",
        "n_train_spam = len(train_spam)\n",
        "# Contagem do total das classes\n",
        "n_total_train = n_train_ham + n_train_spam\n",
        "\n",
        "\n",
        "print(\"Numero de exemplos de treinamemto da classe ham =\", len(train_ham))\n",
        "print(\"\\nNumero de exemplos de teste da classe ham =\", len(test_ham))\n",
        "print(\"\\nNumero de exemplos de treinamemto da classe spam =\", len(train_spam))\n",
        "print(\"\\nNumero de exemplos de teste da classe spam =\", len(test_spam))\n",
        "print(\"\\nNúmero de exemplos totais de treinamento = \", n_total_train)"
      ],
      "execution_count": null,
      "outputs": [
        {
          "output_type": "stream",
          "text": [
            "Numero de exemplos de treinamemto da classe ham = 2937\n",
            "\n",
            "Numero de exemplos de teste da classe ham = 735\n",
            "\n",
            "Numero de exemplos de treinamemto da classe spam = 1188\n",
            "\n",
            "Numero de exemplos de teste da classe spam = 297\n",
            "\n",
            "Número de exemplos totais de treinamento =  4125\n"
          ],
          "name": "stdout"
        }
      ]
    },
    {
      "cell_type": "code",
      "metadata": {
        "colab": {
          "base_uri": "https://localhost:8080/"
        },
        "id": "xYp_MqbC6tTZ",
        "outputId": "d552d5ef-8a02-412d-9cee-b869afbf131c"
      },
      "source": [
        "# Contagem dos atributos (cada token corresponde a um atributo)\n",
        "# Contagens de cada palavra (dicionários de ocorrências)\n",
        "tokens_ham = achatar(all_ham)\n",
        "cont_ham = Counter(tokens_ham)\n",
        "tokens_spam = achatar(all_spam)\n",
        "cont_spam = Counter(tokens_spam)\n",
        "\n",
        "# Número total de palavras em cada classe\n",
        "n_tokens_ham = sum(cont_ham.values())\n",
        "n_tokens_spam = sum(cont_spam.values())\n",
        "\n",
        "print(\"Contagem de cada palavra na classe ham: \", len(cont_ham))\n",
        "print(\"\\nContagem de cada palavra na classe spam: \", len(cont_spam))\n",
        "print(\"\\nContagem total de palavras na clase ham: \", n_tokens_ham)\n",
        "print(\"\\nContagem total dos palavrasda classe spam: \", n_tokens_spam)\n"
      ],
      "execution_count": null,
      "outputs": [
        {
          "output_type": "stream",
          "text": [
            "Contagem de cada palavra na classe ham:  12360\n",
            "\n",
            "Contagem de cada palavra na classe spam:  31492\n",
            "\n",
            "Contagem total de palavras na clase ham:  323901\n",
            "\n",
            "Contagem total dos palavrasda classe spam:  177054\n"
          ],
          "name": "stdout"
        }
      ]
    },
    {
      "cell_type": "markdown",
      "metadata": {
        "id": "HArFRlI265cj"
      },
      "source": [
        "**5. Calcular as probabilidades relacionadas às contagens**"
      ]
    },
    {
      "cell_type": "markdown",
      "metadata": {
        "id": "uLHhOFU5DPLt"
      },
      "source": [
        "O cálculo das probabilidades estão dentro da função Bayes()."
      ]
    },
    {
      "cell_type": "markdown",
      "metadata": {
        "id": "bOyJi5He7ZKb"
      },
      "source": [
        "**6. Implementar uma função Bayes() que receba uma mensagem e devolva a probabilidade dela ser classificada como spam ou ham**"
      ]
    },
    {
      "cell_type": "code",
      "metadata": {
        "id": "AeOVAqZV7vsf"
      },
      "source": [
        "def Bayes (mensagem):\n",
        "\n",
        "  # testa e exclui palavras que não aparecem no vocabulário de treinamento\n",
        "  tokens_teste = [i for i in mensagem if i in vocab]\n",
        "\n",
        "  # Calcula a probabilidade da classe ham\n",
        "  prob_classe_ham = n_train_ham / n_total_train\n",
        "  #Suavização de Laplece para classe ham\n",
        "  prob_f_dada_ham = [(cont_ham[i]+1)/(n_tokens_ham + n_vocab)for i in tokens_teste]\n",
        "  # cálculo da probabilidade do email ser ham\n",
        "  prob_ham = log(prob_classe_ham) + sum(log(i) for i in prob_f_dada_ham)\n",
        "\n",
        "  # Calcula a probabilidade da classe spam\n",
        "  prob_classe_spam = n_train_spam / n_total_train\n",
        "  #Suavização de Laplece para classe spam\n",
        "  prob_f_dada_spam = [(cont_spam[i]+1)/(n_tokens_spam + n_vocab)for i in tokens_teste]\n",
        "  # cálculo da probabilidade do email ser ham\n",
        "  prob_spam = log(prob_classe_spam) + sum(log(i) for i in prob_f_dada_spam)\n",
        "\n",
        "  return prob_spam, prob_ham\n"
      ],
      "execution_count": null,
      "outputs": []
    },
    {
      "cell_type": "code",
      "metadata": {
        "colab": {
          "base_uri": "https://localhost:8080/"
        },
        "id": "532kQJ7iJGhi",
        "outputId": "7b738d6d-db45-46cd-9193-abafca6b2ce6"
      },
      "source": [
        "#testando a função Bayes()\n",
        "test_1=Bayes(train_ham[0])\n",
        "print(test_1)"
      ],
      "execution_count": null,
      "outputs": [
        {
          "output_type": "stream",
          "text": [
            "(-43.7462888162411, -44.55875654679888)\n"
          ],
          "name": "stdout"
        }
      ]
    },
    {
      "cell_type": "markdown",
      "metadata": {
        "id": "cIpPeqVE8FJI"
      },
      "source": [
        "**7. Classificar todo o corpus de teste passando cada mensagem pela função Bayes()**"
      ]
    },
    {
      "cell_type": "code",
      "metadata": {
        "id": "BPVOgLVy8WPN"
      },
      "source": [
        "# Criar função que classifica um conjunto de dados com a função Bayes() \n",
        "# e retorna um vetor com os emails classificados em 1(spam) ou 0(ham)\n",
        "\n",
        "def classificadorBayes(conjunto_dados):\n",
        "\n",
        "  vetor= []\n",
        "  result = []\n",
        "\n",
        "  for i in conjunto_dados:\n",
        "    vetor.append(Bayes(i))\n",
        "\n",
        "  \n",
        "  for i in vetor:\n",
        "    if i[0] > i[1]:\n",
        "      result.append(1)\n",
        "    else:\n",
        "      result.append(0)\n",
        "\n",
        "  return result"
      ],
      "execution_count": null,
      "outputs": []
    },
    {
      "cell_type": "code",
      "metadata": {
        "id": "lwkyEchLb3y6"
      },
      "source": [
        "# instancia o classificador com os dados de teste de spam\n",
        "# e retorna um vetor de classificação para os dados de spam\n",
        "classificar_spam =classificadorBayes(test_spam)\n",
        "\n",
        "# instancia o classificador com os dados de teste de ham\n",
        "# e retorna um vetor de classificação para os dados de ham\n",
        "classificar_ham = classificadorBayes(test_ham)"
      ],
      "execution_count": null,
      "outputs": []
    },
    {
      "cell_type": "markdown",
      "metadata": {
        "id": "znXu1Tip8XDl"
      },
      "source": [
        "**8. Criar a matriz de confusão do classificador**"
      ]
    },
    {
      "cell_type": "code",
      "metadata": {
        "id": "FuDzEZzr8njK"
      },
      "source": [
        "#Criar os conjuntos de dados separados\n",
        "import numpy as np\n",
        "\n",
        "Spam_original = achatar([np.ones(len(test_spam), dtype=int)])\n",
        "Spam_previsto= classificar_spam\n",
        "Ham_original = achatar([np.zeros(len(test_ham), dtype=int)])\n",
        "Ham_previsto = classificar_ham"
      ],
      "execution_count": null,
      "outputs": []
    },
    {
      "cell_type": "code",
      "metadata": {
        "id": "cub3InFq5S1f"
      },
      "source": [
        "# Criar o conjunto de dados originais e os previstos\n",
        "dados_originais = Spam_original + Ham_original\n",
        "\n",
        "dados_previstos = Spam_previsto + Ham_previsto"
      ],
      "execution_count": null,
      "outputs": []
    },
    {
      "cell_type": "code",
      "metadata": {
        "colab": {
          "base_uri": "https://localhost:8080/"
        },
        "id": "EeiU3WDf5-uv",
        "outputId": "d6454c9e-9d9d-48ee-92a6-5cac744c6496"
      },
      "source": [
        "#Verificar o cumprimento dos vetores\n",
        "print(len(dados_originais))\n",
        "print(len(dados_previstos))"
      ],
      "execution_count": null,
      "outputs": [
        {
          "output_type": "stream",
          "text": [
            "1032\n",
            "1032\n"
          ],
          "name": "stdout"
        }
      ]
    },
    {
      "cell_type": "code",
      "metadata": {
        "colab": {
          "base_uri": "https://localhost:8080/"
        },
        "id": "EpoK_V4V7hB5",
        "outputId": "81c57030-4a00-41d6-f5db-debedcebb54a"
      },
      "source": [
        "#Criar a Matriz de confusão\n",
        "from sklearn.metrics import confusion_matrix\n",
        "\n",
        "VN, FP, FN, VP = confusion_matrix(dados_originais, dados_previstos).ravel()\n",
        "print(VN, FP, FN, VP)"
      ],
      "execution_count": null,
      "outputs": [
        {
          "output_type": "stream",
          "text": [
            "727 8 8 289\n"
          ],
          "name": "stdout"
        }
      ]
    },
    {
      "cell_type": "markdown",
      "metadata": {
        "id": "tiUy_P5D8soW"
      },
      "source": [
        "**9. Calcular a performance do classificador**"
      ]
    },
    {
      "cell_type": "code",
      "metadata": {
        "colab": {
          "base_uri": "https://localhost:8080/"
        },
        "id": "lJIgf6qt8--U",
        "outputId": "df19b794-f3eb-43fe-bf6d-15f7fa4a050a"
      },
      "source": [
        "# Calcular a Precisão\n",
        "precision = VP / (VP + FP)\n",
        "print(\"A precisão do modelo é de: \", precision)\n",
        "\n",
        "# Calcular a Cobertura ou Recall\n",
        "cobertura = VP/(VP + FN)\n",
        "print(\"\\nA cobertura ou recall do modelo é de:\", cobertura)\n",
        "# Calcular a Acurácia\n",
        "acuracia = (VP + VN)/(VP + FP + VN + FN)\n",
        "print(\"\\nA acurácia do modelo é de: \", acuracia)\n",
        "# Calcular a Medida_F ou F-score\n",
        "medida_F = 2*((precision*cobertura)/(precision+cobertura))\n",
        "print(\"\\nA medida_F ou F-score do modelo é de: \", medida_F)"
      ],
      "execution_count": null,
      "outputs": [
        {
          "output_type": "stream",
          "text": [
            "A precisão do modelo é de:  0.9730639730639731\n",
            "\n",
            "A cobertura ou recall do modelo é de: 0.9730639730639731\n",
            "\n",
            "A acurácia do modelo é de:  0.9844961240310077\n",
            "\n",
            "A medida_F ou F-score do modelo é de:  0.9730639730639731\n"
          ],
          "name": "stdout"
        }
      ]
    }
  ]
}